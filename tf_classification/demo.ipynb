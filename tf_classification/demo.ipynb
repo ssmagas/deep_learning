{
 "cells": [
  {
   "cell_type": "code",
   "execution_count": null,
   "metadata": {},
   "outputs": [],
   "source": [
    "import pandas as pd\n",
    "import matplotlib.pyplot as plt\n",
    "import tensorflow as tf"
   ]
  },
  {
   "cell_type": "code",
   "execution_count": 2,
   "metadata": {},
   "outputs": [
    {
     "data": {
      "text/html": [
       "<div>\n",
       "<style scoped>\n",
       "    .dataframe tbody tr th:only-of-type {\n",
       "        vertical-align: middle;\n",
       "    }\n",
       "\n",
       "    .dataframe tbody tr th {\n",
       "        vertical-align: top;\n",
       "    }\n",
       "\n",
       "    .dataframe thead th {\n",
       "        text-align: right;\n",
       "    }\n",
       "</style>\n",
       "<table border=\"1\" class=\"dataframe\">\n",
       "  <thead>\n",
       "    <tr style=\"text-align: right;\">\n",
       "      <th></th>\n",
       "      <th>area</th>\n",
       "      <th>bathrooms</th>\n",
       "    </tr>\n",
       "  </thead>\n",
       "  <tbody>\n",
       "    <tr>\n",
       "      <th>0</th>\n",
       "      <td>2104.0</td>\n",
       "      <td>3.0</td>\n",
       "    </tr>\n",
       "    <tr>\n",
       "      <th>1</th>\n",
       "      <td>1600.0</td>\n",
       "      <td>3.0</td>\n",
       "    </tr>\n",
       "    <tr>\n",
       "      <th>2</th>\n",
       "      <td>2400.0</td>\n",
       "      <td>3.0</td>\n",
       "    </tr>\n",
       "    <tr>\n",
       "      <th>3</th>\n",
       "      <td>1416.0</td>\n",
       "      <td>2.0</td>\n",
       "    </tr>\n",
       "    <tr>\n",
       "      <th>4</th>\n",
       "      <td>3000.0</td>\n",
       "      <td>4.0</td>\n",
       "    </tr>\n",
       "    <tr>\n",
       "      <th>5</th>\n",
       "      <td>1985.0</td>\n",
       "      <td>4.0</td>\n",
       "    </tr>\n",
       "    <tr>\n",
       "      <th>6</th>\n",
       "      <td>1534.0</td>\n",
       "      <td>3.0</td>\n",
       "    </tr>\n",
       "    <tr>\n",
       "      <th>7</th>\n",
       "      <td>1427.0</td>\n",
       "      <td>3.0</td>\n",
       "    </tr>\n",
       "    <tr>\n",
       "      <th>8</th>\n",
       "      <td>1380.0</td>\n",
       "      <td>3.0</td>\n",
       "    </tr>\n",
       "    <tr>\n",
       "      <th>9</th>\n",
       "      <td>1494.0</td>\n",
       "      <td>3.0</td>\n",
       "    </tr>\n",
       "  </tbody>\n",
       "</table>\n",
       "</div>"
      ],
      "text/plain": [
       "     area  bathrooms\n",
       "0  2104.0        3.0\n",
       "1  1600.0        3.0\n",
       "2  2400.0        3.0\n",
       "3  1416.0        2.0\n",
       "4  3000.0        4.0\n",
       "5  1985.0        4.0\n",
       "6  1534.0        3.0\n",
       "7  1427.0        3.0\n",
       "8  1380.0        3.0\n",
       "9  1494.0        3.0"
      ]
     },
     "execution_count": 2,
     "metadata": {},
     "output_type": "execute_result"
    }
   ],
   "source": [
    "# Step 1 load data\n",
    "dataframe = pd.read_csv('data.csv')\n",
    "# remove the features we dont care about\n",
    "dataframe = dataframe.drop(['index', 'price', 'sq_price'], axis=1)\n",
    "# we only use the first 10 rows\n",
    "dataframe = dataframe[0:10]\n",
    "dataframe"
   ]
  },
  {
   "cell_type": "code",
   "execution_count": 6,
   "metadata": {},
   "outputs": [
    {
     "data": {
      "text/html": [
       "<div>\n",
       "<style scoped>\n",
       "    .dataframe tbody tr th:only-of-type {\n",
       "        vertical-align: middle;\n",
       "    }\n",
       "\n",
       "    .dataframe tbody tr th {\n",
       "        vertical-align: top;\n",
       "    }\n",
       "\n",
       "    .dataframe thead th {\n",
       "        text-align: right;\n",
       "    }\n",
       "</style>\n",
       "<table border=\"1\" class=\"dataframe\">\n",
       "  <thead>\n",
       "    <tr style=\"text-align: right;\">\n",
       "      <th></th>\n",
       "      <th>area</th>\n",
       "      <th>bathrooms</th>\n",
       "      <th>y1</th>\n",
       "      <th>y2</th>\n",
       "    </tr>\n",
       "  </thead>\n",
       "  <tbody>\n",
       "    <tr>\n",
       "      <th>0</th>\n",
       "      <td>2104.0</td>\n",
       "      <td>3.0</td>\n",
       "      <td>1</td>\n",
       "      <td>0</td>\n",
       "    </tr>\n",
       "    <tr>\n",
       "      <th>1</th>\n",
       "      <td>1600.0</td>\n",
       "      <td>3.0</td>\n",
       "      <td>1</td>\n",
       "      <td>0</td>\n",
       "    </tr>\n",
       "    <tr>\n",
       "      <th>2</th>\n",
       "      <td>2400.0</td>\n",
       "      <td>3.0</td>\n",
       "      <td>1</td>\n",
       "      <td>0</td>\n",
       "    </tr>\n",
       "    <tr>\n",
       "      <th>3</th>\n",
       "      <td>1416.0</td>\n",
       "      <td>2.0</td>\n",
       "      <td>0</td>\n",
       "      <td>1</td>\n",
       "    </tr>\n",
       "    <tr>\n",
       "      <th>4</th>\n",
       "      <td>3000.0</td>\n",
       "      <td>4.0</td>\n",
       "      <td>0</td>\n",
       "      <td>1</td>\n",
       "    </tr>\n",
       "    <tr>\n",
       "      <th>5</th>\n",
       "      <td>1985.0</td>\n",
       "      <td>4.0</td>\n",
       "      <td>1</td>\n",
       "      <td>0</td>\n",
       "    </tr>\n",
       "    <tr>\n",
       "      <th>6</th>\n",
       "      <td>1534.0</td>\n",
       "      <td>3.0</td>\n",
       "      <td>0</td>\n",
       "      <td>1</td>\n",
       "    </tr>\n",
       "    <tr>\n",
       "      <th>7</th>\n",
       "      <td>1427.0</td>\n",
       "      <td>3.0</td>\n",
       "      <td>1</td>\n",
       "      <td>0</td>\n",
       "    </tr>\n",
       "    <tr>\n",
       "      <th>8</th>\n",
       "      <td>1380.0</td>\n",
       "      <td>3.0</td>\n",
       "      <td>1</td>\n",
       "      <td>0</td>\n",
       "    </tr>\n",
       "    <tr>\n",
       "      <th>9</th>\n",
       "      <td>1494.0</td>\n",
       "      <td>3.0</td>\n",
       "      <td>1</td>\n",
       "      <td>0</td>\n",
       "    </tr>\n",
       "  </tbody>\n",
       "</table>\n",
       "</div>"
      ],
      "text/plain": [
       "     area  bathrooms  y1  y2\n",
       "0  2104.0        3.0   1   0\n",
       "1  1600.0        3.0   1   0\n",
       "2  2400.0        3.0   1   0\n",
       "3  1416.0        2.0   0   1\n",
       "4  3000.0        4.0   0   1\n",
       "5  1985.0        4.0   1   0\n",
       "6  1534.0        3.0   0   1\n",
       "7  1427.0        3.0   1   0\n",
       "8  1380.0        3.0   1   0\n",
       "9  1494.0        3.0   1   0"
      ]
     },
     "execution_count": 6,
     "metadata": {},
     "output_type": "execute_result"
    }
   ],
   "source": [
    "# Step 2 - add labels\n",
    "# 1 is good and 0 is bad buy\n",
    "dataframe.loc[:, ('y1')] = [1,1,1,0,0,1,0,1,1,1]\n",
    "# y2 is a negation of y1, opposite\n",
    "dataframe.loc[:, ('y2')] = dataframe['y1'] == 0\n",
    "# turn TRUE/FALSE values to 1s and 0s\n",
    "dataframe.loc[:, ('y2')] = dataframe['y2'].astype(int)\n",
    "dataframe"
   ]
  },
  {
   "cell_type": "code",
   "execution_count": 8,
   "metadata": {},
   "outputs": [
    {
     "name": "stderr",
     "output_type": "stream",
     "text": [
      "/anaconda3/envs/python27/lib/python2.7/site-packages/ipykernel_launcher.py:3: FutureWarning: Method .as_matrix will be removed in a future version. Use .values instead.\n",
      "  This is separate from the ipykernel package so we can avoid doing imports until\n",
      "/anaconda3/envs/python27/lib/python2.7/site-packages/ipykernel_launcher.py:5: FutureWarning: Method .as_matrix will be removed in a future version. Use .values instead.\n",
      "  \"\"\"\n"
     ]
    }
   ],
   "source": [
    "# Step 3 - prepare data for tensprflow (tensors)\n",
    "# convert features to input tensor\n",
    "inputX = dataframe.loc[:, ['area', 'bathrooms']].as_matrix()\n",
    "# convert labels to input tensors\n",
    "inputY = dataframe.loc[:, ['y1', 'y2']].as_matrix()"
   ]
  },
  {
   "cell_type": "code",
   "execution_count": 9,
   "metadata": {},
   "outputs": [
    {
     "data": {
      "text/plain": [
       "array([[2.104e+03, 3.000e+00],\n",
       "       [1.600e+03, 3.000e+00],\n",
       "       [2.400e+03, 3.000e+00],\n",
       "       [1.416e+03, 2.000e+00],\n",
       "       [3.000e+03, 4.000e+00],\n",
       "       [1.985e+03, 4.000e+00],\n",
       "       [1.534e+03, 3.000e+00],\n",
       "       [1.427e+03, 3.000e+00],\n",
       "       [1.380e+03, 3.000e+00],\n",
       "       [1.494e+03, 3.000e+00]])"
      ]
     },
     "execution_count": 9,
     "metadata": {},
     "output_type": "execute_result"
    }
   ],
   "source": [
    "inputX"
   ]
  },
  {
   "cell_type": "code",
   "execution_count": 10,
   "metadata": {},
   "outputs": [
    {
     "data": {
      "text/plain": [
       "array([[1, 0],\n",
       "       [1, 0],\n",
       "       [1, 0],\n",
       "       [0, 1],\n",
       "       [0, 1],\n",
       "       [1, 0],\n",
       "       [0, 1],\n",
       "       [1, 0],\n",
       "       [1, 0],\n",
       "       [1, 0]])"
      ]
     },
     "execution_count": 10,
     "metadata": {},
     "output_type": "execute_result"
    }
   ],
   "source": [
    "inputY"
   ]
  },
  {
   "cell_type": "code",
   "execution_count": 29,
   "metadata": {},
   "outputs": [],
   "source": [
    "# Step 4 write out our hyperparameters\n",
    "learning_rate = 0.00001\n",
    "training_epochs = 2000\n",
    "display_step = 50\n",
    "n_samples = inputY.size"
   ]
  },
  {
   "cell_type": "code",
   "execution_count": 30,
   "metadata": {},
   "outputs": [],
   "source": [
    "# Step 5 - Create our computation graph/neural network\n",
    "# for feature input tensors, none means any numbers of examples\n",
    "# placeholders are gateways for data into our computation graph\n",
    "x = tf.placeholder(tf.float32, [None, 2])\n",
    "\n",
    "# create weights\n",
    "# 2x2 float matrix, that we'll keep updating through the\n",
    "# training process\n",
    "# variables in tf hold and update parameters\n",
    "# in memory buffers containing tensors\n",
    "W = tf.Variable(tf.zeros([2,2]))\n",
    "\n",
    "# add biases (axample is b in y = mx + b b is the bias, like that)\n",
    "b = tf.Variable(tf.zeros([2]))\n",
    "\n",
    "# multiply our weights by our inputs, first calculation\n",
    "# weights are how we govern how data flows in our computation graph\n",
    "# multiply input by weights and biases\n",
    "y_values = tf.add(tf.matmul(x, W), b)\n",
    "\n",
    "# apply softmax to value we just created\n",
    "# softmax is our activation function\n",
    "y = tf.nn.softmax(y_values)\n",
    "\n",
    "# feed in a matrix of labels\n",
    "y_ = tf.placeholder(tf.float32, [None, 2])"
   ]
  },
  {
   "cell_type": "code",
   "execution_count": 31,
   "metadata": {},
   "outputs": [],
   "source": [
    "# Step 6 perform training\n",
    "# create out cost function, mean squared error\n",
    "# reduce sum computes the sum of elements across dimensions of a tensor\n",
    "cost = tf.reduce_sum(tf.pow(y_ - y, 2)) / (2 * n_samples)\n",
    "# Gradient descent\n",
    "optimizer = tf.train.GradientDescentOptimizer(learning_rate).minimize(cost)"
   ]
  },
  {
   "cell_type": "code",
   "execution_count": 32,
   "metadata": {},
   "outputs": [],
   "source": [
    "# initialize variables and tensorflow session\n",
    "init = tf.initialize_all_variables()\n",
    "sess = tf.Session()\n",
    "sess.run(init)"
   ]
  },
  {
   "cell_type": "code",
   "execution_count": 33,
   "metadata": {},
   "outputs": [
    {
     "name": "stdout",
     "output_type": "stream",
     "text": [
      "Training step: 0000 cost= 0.134503588\n",
      "Training step: 0050 cost= 0.112963296\n",
      "Training step: 0100 cost= 0.112963341\n",
      "Training step: 0150 cost= 0.112963371\n",
      "Training step: 0200 cost= 0.112963371\n",
      "Training step: 0250 cost= 0.112963393\n",
      "Training step: 0300 cost= 0.112963438\n",
      "Training step: 0350 cost= 0.112963490\n",
      "Training step: 0400 cost= 0.112963490\n",
      "Training step: 0450 cost= 0.112963513\n",
      "Training step: 0500 cost= 0.112963557\n",
      "Training step: 0550 cost= 0.112963572\n",
      "Training step: 0600 cost= 0.112963609\n",
      "Training step: 0650 cost= 0.112963632\n",
      "Training step: 0700 cost= 0.112963654\n",
      "Training step: 0750 cost= 0.112963699\n",
      "Training step: 0800 cost= 0.112963714\n",
      "Training step: 0850 cost= 0.112963729\n",
      "Training step: 0900 cost= 0.112963758\n",
      "Training step: 0950 cost= 0.112963796\n",
      "Training step: 1000 cost= 0.112963811\n",
      "Training step: 1050 cost= 0.112963848\n",
      "Training step: 1100 cost= 0.112963870\n",
      "Training step: 1150 cost= 0.112963893\n",
      "Training step: 1200 cost= 0.112963915\n",
      "Training step: 1250 cost= 0.112963937\n",
      "Training step: 1300 cost= 0.112963967\n",
      "Training step: 1350 cost= 0.112964012\n",
      "Training step: 1400 cost= 0.112964027\n",
      "Training step: 1450 cost= 0.112964056\n",
      "Training step: 1500 cost= 0.112964086\n",
      "Training step: 1550 cost= 0.112964109\n",
      "Training step: 1600 cost= 0.112964131\n",
      "Training step: 1650 cost= 0.112964153\n",
      "Training step: 1700 cost= 0.112964176\n",
      "Training step: 1750 cost= 0.112964213\n",
      "Training step: 1800 cost= 0.112964235\n",
      "Training step: 1850 cost= 0.112964250\n",
      "Training step: 1900 cost= 0.112964287\n",
      "Training step: 1950 cost= 0.112964325\n",
      "Optimization Finished!\n",
      "Training cost= 0.11095705 W= [[ 0.00014077 -0.00014077]\n",
      " [ 0.00045578 -0.00045578]] b= [ 9.5152151e-05 -9.5152136e-05] \n",
      "\n"
     ]
    }
   ],
   "source": [
    "# training loop\n",
    "for i in range(training_epochs):\n",
    "    sess.run(optimizer, feed_dict={x: inputX, y_: inputY})\n",
    "    \n",
    "    # write out logs of training\n",
    "    if (i) % display_step == 0:\n",
    "        cc = sess.run(cost, feed_dict={x: inputX, y_:inputY})\n",
    "        print \"Training step:\", '%04d' % (i), \"cost=\", \"{:.9f}\".format(cc) \n",
    "\n",
    "print \"Optimization Finished!\"\n",
    "training_cost = sess.run(cost, feed_dict={x: inputX, y_: inputY})\n",
    "print \"Training cost=\", training_cost, \"W=\", sess.run(W), \"b=\", sess.run(b), '\\n'\n"
   ]
  },
  {
   "cell_type": "code",
   "execution_count": 37,
   "metadata": {},
   "outputs": [
    {
     "data": {
      "text/plain": [
       "array([[0.64457554, 0.3554244 ],\n",
       "       [0.61144364, 0.38855633],\n",
       "       [0.6634294 , 0.3365706 ],\n",
       "       [0.5988487 , 0.40115133],\n",
       "       [0.70024157, 0.29975843],\n",
       "       [0.6370743 , 0.36292574],\n",
       "       [0.6070201 , 0.39297998],\n",
       "       [0.59981126, 0.40018877],\n",
       "       [0.5966308 , 0.40336913],\n",
       "       [0.6043304 , 0.39566955]], dtype=float32)"
      ]
     },
     "execution_count": 37,
     "metadata": {},
     "output_type": "execute_result"
    }
   ],
   "source": [
    "sess.run(y, feed_dict = {x: inputX})"
   ]
  },
  {
   "cell_type": "code",
   "execution_count": null,
   "metadata": {},
   "outputs": [],
   "source": [
    "# its saying all houses are good buy 7/10\n",
    "# how to improve? add a hidden layer"
   ]
  }
 ],
 "metadata": {
  "kernelspec": {
   "display_name": "Python 3",
   "language": "python",
   "name": "python3"
  },
  "language_info": {
   "codemirror_mode": {
    "name": "ipython",
    "version": 2
   },
   "file_extension": ".py",
   "mimetype": "text/x-python",
   "name": "python",
   "nbconvert_exporter": "python",
   "pygments_lexer": "ipython2",
   "version": "2.7.15"
  }
 },
 "nbformat": 4,
 "nbformat_minor": 1
}
